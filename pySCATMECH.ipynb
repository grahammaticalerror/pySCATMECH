{
 "cells": [
  {
   "cell_type": "code",
   "execution_count": null,
   "id": "d0ce9889",
   "metadata": {},
   "outputs": [],
   "source": [
    "pip install pySCATMECH\n",
    "pip install numpy\n",
    "pip install matplotlib"
   ]
  },
  {
   "cell_type": "code",
   "execution_count": 1,
   "id": "58bc46b3",
   "metadata": {},
   "outputs": [],
   "source": [
    "from pySCATMECH.mueller import *\n",
    "import random\n",
    "import matplotlib.pyplot as plt"
   ]
  },
  {
   "cell_type": "code",
   "execution_count": 7,
   "id": "28070402",
   "metadata": {},
   "outputs": [
    {
     "name": "stdout",
     "output_type": "stream",
     "text": [
      "[[1. 0. 0. 0.]\n",
      " [0. 1. 0. 0.]\n",
      " [0. 0. 1. 0.]\n",
      " [0. 0. 0. 1.]]\n"
     ]
    }
   ],
   "source": [
    "m1 = MuellerMatrix([[1,0,0,0],[0,1,0,0],[0,0,1,0],[0,0,0,1]])\n",
    "m2 = MuellerMatrix([1,0,0,0],[0,1,0,0],[0,0,1,0],[0,0,0,1])\n",
    "m3 = MuellerMatrix(1,0,0,0,0,1,0,0,0,0,1,0,0,0,0,1)\n",
    "m4 = JonesMueller([[1,0],[0,1]])\n",
    "m5 = MuellerUnit()\n",
    "print(m5)"
   ]
  },
  {
   "cell_type": "code",
   "execution_count": 9,
   "id": "86c3946c",
   "metadata": {},
   "outputs": [
    {
     "name": "stdout",
     "output_type": "stream",
     "text": [
      "[[1. 0. 0. 0.]\n",
      " [0. 1. 0. 0.]\n",
      " [0. 0. 1. 0.]\n",
      " [0. 0. 0. 1.]]\n"
     ]
    }
   ],
   "source": [
    "m1 = MuellerMatrix([[1,0,0,0],[0,1,0,0],[0,0,1,0],[0,0,0,1]])\n",
    "m2 = MuellerMatrix([1,0,0,0],[0,1,0,0],[0,0,1,0],[0,0,0,1])\n",
    "m3 = MuellerMatrix(1,0,0,0,0,1,0,0,0,0,1,0,0,0,0,1)\n",
    "m4 = JonesMueller([[1,0],[0,1]])\n",
    "m5 = MuellerUnit()\n",
    "print(m5)"
   ]
  },
  {
   "cell_type": "code",
   "execution_count": 12,
   "id": "f54a5f20",
   "metadata": {},
   "outputs": [
    {
     "name": "stdout",
     "output_type": "stream",
     "text": [
      "True\n",
      "True\n"
     ]
    }
   ],
   "source": [
    "print(m5.valid())\n",
    "print(m1.physically_valid())"
   ]
  },
  {
   "cell_type": "code",
   "execution_count": 67,
   "id": "87091b99",
   "metadata": {},
   "outputs": [
    {
     "name": "stdout",
     "output_type": "stream",
     "text": [
      "Number value() is True: 2\n",
      "Number physically valid() is True: 0\n"
     ]
    }
   ],
   "source": [
    "# Returns a random number with a normal distribution...\n",
    "ran = lambda : random.gauss(0,1)\n",
    "\n",
    "# Create 20 random matrices...\n",
    "m1 = [MuellerMatrix([[ran(), ran(), ran(), ran()],\n",
    "                    [ran(), ran(), ran(), ran()],\n",
    "                    [ran(), ran(), ran(), ran()],\n",
    "                    [ran(), ran(), ran(), ran()]]) for i in range(20)]\n",
    "\n",
    "# See if they are valid...\n",
    "print(\"Number value() is True:\", sum([m.valid() for m in m1]))\n",
    "print(\"Number physically valid() is True:\", sum([m.physically_valid() for m in m1]))"
   ]
  },
  {
   "cell_type": "code",
   "execution_count": 77,
   "id": "6ae246af",
   "metadata": {},
   "outputs": [
    {
     "name": "stdout",
     "output_type": "stream",
     "text": [
      "Number value() is True: 20\n",
      "Number physically valid() is True: 20\n"
     ]
    }
   ],
   "source": [
    "# Returns a random complex number with a normal distribution...\n",
    "ranc = lambda : random.gauss(0,1)+random.gauss(0,1)*1j\n",
    "\n",
    "# Create 20 random Jones-Mueller matrices...\n",
    "m1 = [JonesMueller([[ranc(), ranc()], [ranc(), ranc()]]) for i in range(20)]\n",
    "\n",
    "# See if they are valid...\n",
    "print(\"Number value() is True:\", sum([m.valid() for m in m1]))\n",
    "print(\"Number physically valid() is True:\", sum([m.physically_valid() for m in m1]))"
   ]
  },
  {
   "cell_type": "code",
   "execution_count": 84,
   "id": "fdfdacc5",
   "metadata": {},
   "outputs": [
    {
     "name": "stdout",
     "output_type": "stream",
     "text": [
      "[[ 1.30753019 -0.13271063 -0.12036948  0.117276  ]\n",
      " [-0.04774596 -0.09655577  0.34782284 -0.27056385]\n",
      " [ 0.16704253  0.03457475 -0.05735983 -0.53032993]\n",
      " [ 0.34921294  0.18061889 -0.0708707   0.15603395]]\n",
      "m is a valid Stokes to Stokes mapper: True\n",
      "m is the sum of Jones-Mueller matrices: True\n"
     ]
    }
   ],
   "source": [
    "def RandomMuellerMatrix(n):\n",
    "    \"\"\"\n",
    "    Creates a random Mueller matrix by averaging `n` Jones-Mueller matrices.\n",
    "    \"\"\"\n",
    "    ranc = lambda : (random.gauss(0,1)+random.gauss(0,1)*1j)/2\n",
    "    return sum([JonesMueller([[ranc(),ranc()],[ranc(),ranc()]]) for i in range(n)])/n\n",
    "\n",
    "m = RandomMuellerMatrix(4)\n",
    "print(m)\n",
    "print(\"m is a valid Stokes to Stokes mapper:\",m.valid())\n",
    "print(\"m is the sum of Jones-Mueller matrices:\",m.physically_valid())\n"
   ]
  },
  {
   "cell_type": "code",
   "execution_count": 14,
   "id": "e66d4533",
   "metadata": {},
   "outputs": [
    {
     "name": "stdout",
     "output_type": "stream",
     "text": [
      "Unpolarized Stokes vector: StokesVector(1,0,0,0)\n",
      "Unpolarized Stokes vector: StokesVector(1,0,0,0)\n",
      "s-polarized unit polarization from a Jones vector: StokesVector(1.0,1.0,0.0,0.0)\n",
      "p-polarized unit Stokes vector: StokesVector(1,-1,0,0)\n",
      "s-polarized unit Stokes vector: StokesVector(1,1,0,0)\n",
      "Left-handed circularly polarized unit Stokes vector: StokesVector(1,0,0,1)\n",
      "Right-handed circularly polarized unit Stokes vector with intensity 2: StokesVector(2,0,0,-2)\n",
      "Unpolarized Stokes vector: StokesVector(1,0,0,0)\n",
      "Unpolarized Stokes vector: StokesVector(1,0,0,0)\n",
      "Linear polarization at 45 degrees: StokesVector(1.0,6.123233995736766e-17,1.0,0.0)\n",
      "Elliptically polarized radiation: StokesVector(1.0,0.2869652992419897,0.7102640395405222,0.6427876096865393)\n",
      "Partially polarized radiation: StokesVector(1.0,0.8,0.0,0.0)\n",
      "Partially polarized elliptical polarized radiation with intensity 3:\n",
      " StokesVector(3.0,0.6026271284081782,1.4915544830350964,1.3498539803417322)\n"
     ]
    }
   ],
   "source": [
    "print(\"Unpolarized Stokes vector:\", StokesVector((1,0,0,0)) )\n",
    "\n",
    "print(\"Unpolarized Stokes vector:\", StokesVector(1,0,0,0) )\n",
    "\n",
    "print(\"s-polarized unit polarization from a Jones vector:\", JonesStokes((1.,0.)) )\n",
    "\n",
    "print(\"p-polarized unit Stokes vector:\", Polarization('p') )\n",
    "\n",
    "print(\"s-polarized unit Stokes vector:\", Polarization(state = 's') )\n",
    "\n",
    "print(\"Left-handed circularly polarized unit Stokes vector:\", Polarization(\"L\") )\n",
    "\n",
    "print(\"Right-handed circularly polarized unit Stokes vector with intensity 2:\", Polarization(\"R\", I=2) )\n",
    "\n",
    "print(\"Unpolarized Stokes vector:\", Polarization(\"U\") )\n",
    "\n",
    "print(\"Unpolarized Stokes vector:\", Polarization('s', DOP=0) )\n",
    "\n",
    "print(\"Linear polarization at 45 degrees:\", Polarization(angle = 45*deg) )\n",
    "\n",
    "print(\"Elliptically polarized radiation:\", Polarization(angle = 34*deg, ellipticity = 20*deg) )\n",
    "\n",
    "print(\"Partially polarized radiation:\", Polarization(\"S\", DOP = 0.8) )\n",
    "\n",
    "print(\"Partially polarized elliptical polarized radiation with intensity 3:\\n\",\n",
    "      Polarization(angle = 34*deg, ellipticity = 20*deg, DOP = 0.7, I = 3) )"
   ]
  },
  {
   "cell_type": "code",
   "execution_count": 15,
   "id": "fae58cfb",
   "metadata": {},
   "outputs": [
    {
     "name": "stdout",
     "output_type": "stream",
     "text": [
      "Signal for p-polarization: 1.0\n",
      "Signal for s-polarization: 0.0\n"
     ]
    }
   ],
   "source": [
    "# Only sensitive to p-polarization\n",
    "# The following two statements are equivalent...\n",
    "sens = Polarization('p', sensitivity = True)\n",
    "sens = Sensitivity('p')\n",
    "\n",
    "print('Signal for p-polarization:',sens @ Polarization('p'))\n",
    "print('Signal for s-polarization:',sens @ Polarization('s'))\n"
   ]
  },
  {
   "cell_type": "code",
   "execution_count": 16,
   "id": "247d0c31",
   "metadata": {},
   "outputs": [
    {
     "name": "stdout",
     "output_type": "stream",
     "text": [
      "sens =  StokesVector(0.6,-0.4,0.0,0.0)\n",
      "Signal for p-polarization: 1.0\n",
      "Signal for s-polarization: 0.19999999999999996\n"
     ]
    }
   ],
   "source": [
    "sens = Sensitivity('p',DOP=.8)\n",
    "print('sens = ', sens)\n",
    "\n",
    "print('Signal for p-polarization:',sens @ Polarization('p'))\n",
    "print('Signal for s-polarization:',sens @ Polarization('s'))"
   ]
  },
  {
   "cell_type": "code",
   "execution_count": 17,
   "id": "28719592",
   "metadata": {},
   "outputs": [
    {
     "data": {
      "image/png": "[encoded data removed]",
      "text/plain": [
       "<Figure size 432x288 with 1 Axes>"
      ]
     },
     "metadata": {
      "needs_background": "light"
     },
     "output_type": "display_data"
    }
   ],
   "source": [
    "def RandomStokesVector(n):\n",
    "    ranc = lambda : (random.gauss(0,1) + random.gauss(0,1)*1j)/2\n",
    "    return sum([JonesStokes([ranc(),ranc()]) for i in range(n)])/n\n",
    "\n",
    "plt.figure()\n",
    "plt.plot(range(1,100),[RandomStokesVector(i).DOP() for i in range(1,100)])\n",
    "plt.title(\"Degree of polarization vs. number of Jones-Stokes vectors\")\n",
    "plt.xlabel(\"n\")\n",
    "plt.ylabel(\"Degree of polarization\")\n",
    "plt.show()"
   ]
  },
  {
   "cell_type": "code",
   "execution_count": 18,
   "id": "3a44963f",
   "metadata": {},
   "outputs": [
    {
     "name": "stdout",
     "output_type": "stream",
     "text": [
      "m1 = \n",
      " [[ 1.20325893 -0.64387098  0.31722447 -0.1288818 ]\n",
      " [ 0.06133158 -0.11009368  0.43599539  0.18709852]\n",
      " [-0.07873886  0.13246198 -0.31795541 -0.19315755]\n",
      " [ 0.56099399 -0.27983093  0.22240606  0.03232728]]\n",
      "m2 = \n",
      " [[ 0.81725896  0.18663155  0.05378429  0.1537891 ]\n",
      " [-0.03529391  0.2739689  -0.11325164  0.18524945]\n",
      " [-0.37955501 -0.13181827  0.20066062 -0.00646108]\n",
      " [ 0.11711649  0.06994022  0.02796998  0.20343243]]\n",
      "s1 =  StokesVector(0.790870847724691,0.5871887584344051,-0.10949674503913882,0.09599073210037935)\n",
      "s2 =  StokesVector(1.1084465125606044,-0.41241563857529173,-0.6883353167559227,0.548099504781427)\n",
      "m1 * s1 =  StokesVector(0.526442103001284,-0.045920766491242264,0.03178166936234205,0.25811059941877024)\n",
      "m1 @ s1 =  StokesVector(0.526442103001284,-0.045920766491242264,0.03178166936234205,0.25811059941877024)\n",
      "m1.dot(s1) =  [ 0.5264421  -0.04592077  0.03178167  0.2581106 ]\n",
      "m1 @ m2 =  [[ 0.87060054 -0.00266455  0.1976855   0.03750301]\n",
      " [-0.08956249 -0.06310228  0.10848721  0.02428224]\n",
      " [ 0.0290345   0.04999816 -0.08844019 -0.02481084]\n",
      " [ 0.38772441  0.000978    0.1073963   0.03957567]]\n",
      "s1 @ m1 =  StokesVector(1.050107494062385,-0.6152298887405039,0.5630591819664722,0.0321865307458774)\n",
      "s1 @ s2 =  0.7624551556804072\n"
     ]
    }
   ],
   "source": [
    "m1 = RandomMuellerMatrix(4)\n",
    "m2 = RandomMuellerMatrix(4)\n",
    "s1 = RandomStokesVector(4)\n",
    "s2 = RandomStokesVector(4)\n",
    "print(\"m1 = \\n\",m1)\n",
    "print(\"m2 = \\n\",m2)\n",
    "print(\"s1 = \",s1)\n",
    "print(\"s2 = \",s2)\n",
    "print(\"m1 * s1 = \",m1 * s1)\n",
    "print(\"m1 @ s1 = \",m1 * s1)\n",
    "print(\"m1.dot(s1) = \",m1.dot(s1))\n",
    "print(\"m1 @ m2 = \",m1 * m2)\n",
    "print(\"s1 @ m1 = \",s1 * m1)\n",
    "print(\"s1 @ s2 = \",s1 * s2)"
   ]
  },
  {
   "cell_type": "code",
   "execution_count": 19,
   "id": "543081d3",
   "metadata": {},
   "outputs": [
    {
     "name": "stdout",
     "output_type": "stream",
     "text": [
      "M = \n",
      "\n",
      " [[ 1.02678228 -0.0810529  -0.01791286 -0.09556172]\n",
      " [ 0.06571187 -0.21722769 -0.43160788  0.12523781]\n",
      " [-0.15432166 -0.28909379 -0.00723991  0.00905307]\n",
      " [ 0.1324646   0.2453329   0.06786545 -0.2523414 ]] \n",
      "\n",
      "Cloude decomposition =\n",
      "\n",
      "[[ 0.52591     0.07403252 -0.07435076 -0.10905932]\n",
      " [ 0.05000843 -0.1174819  -0.49210226  0.01458624]\n",
      " [-0.04813269 -0.46662365  0.11152784 -0.16068358]\n",
      " [ 0.13448118  0.16619186 -0.06784901 -0.48942876]] \n",
      "\n",
      "[[ 0.31045926 -0.14334207  0.07695803 -0.04185171]\n",
      " [ 0.07236541 -0.21619094 -0.02281796  0.16168324]\n",
      " [-0.15041428  0.17936608 -0.19375803  0.14516883]\n",
      " [-0.01896961  0.09899564  0.18979885  0.15066521]] \n",
      "\n",
      "[[ 0.13542859 -0.0494784  -0.02468664  0.06150676]\n",
      " [-0.06501234  0.1108986   0.0468375  -0.03513734]\n",
      " [ 0.02113412 -0.03174302  0.08810613  0.05636151]\n",
      " [ 0.046555    0.0253431  -0.0464033   0.1042694 ]] \n",
      "\n",
      "[[ 0.05498442  0.03773505  0.00416651 -0.00615745]\n",
      " [ 0.00835038  0.00554655  0.03647483 -0.01589433]\n",
      " [ 0.02309118  0.0299068  -0.01311586 -0.03179369]\n",
      " [-0.02960197 -0.0451977  -0.00768109 -0.01784725]] \n",
      "\n"
     ]
    }
   ],
   "source": [
    "M = RandomMuellerMatrix(4)\n",
    "MCD = M.Cloude_Decomposition()\n",
    "print(\"M = \\n\\n\",M,\"\\n\\nCloude decomposition =\\n\")\n",
    "for m in MCD:\n",
    "    print(m,\"\\n\")"
   ]
  },
  {
   "cell_type": "code",
   "execution_count": 21,
   "id": "335924c3",
   "metadata": {},
   "outputs": [
    {
     "data": {
      "image/png": "[encoded data removed]",
      "text/plain": [
       "<Figure size 432x288 with 1 Axes>"
      ]
     },
     "metadata": {
      "needs_background": "light"
     },
     "output_type": "display_data"
    }
   ],
   "source": [
    "jmax = 100\n",
    "imax = 100\n",
    "mCD00sums = []\n",
    "for i in range(1,imax):\n",
    "    mCD00sum = np.array([0,0,0,0])\n",
    "    for j in range(jmax):\n",
    "        M = RandomMuellerMatrix(i)\n",
    "        mCD = Cloude_Decomposition(M)\n",
    "        mCD00sum = mCD00sum + np.array([m[0,0] for m in mCD])\n",
    "    mCD00sums.append(mCD00sum/jmax)\n",
    "plt.figure()\n",
    "plt.plot(mCD00sums)\n",
    "plt.xlabel(\"Number of Jones-Mueller matrices averaged\")\n",
    "plt.ylabel(\"Cloude decomposition\")\n",
    "plt.show()\n"
   ]
  },
  {
   "cell_type": "code",
   "execution_count": 22,
   "id": "6a6a0847",
   "metadata": {},
   "outputs": [
    {
     "name": "stdout",
     "output_type": "stream",
     "text": [
      "\n",
      " M =\n",
      "\n",
      "[[ 0.8939604  -0.03616874  0.32331696  0.07715862]\n",
      " [-0.11503428 -0.07667013  0.08526914  0.34244714]\n",
      " [ 0.12209799 -0.0498061  -0.00958732  0.31956155]\n",
      " [-0.0076232   0.15220438 -0.04175769  0.00843327]]\n",
      "\n",
      " Depolarizer =\n",
      "\n",
      "[[ 1.          0.          0.          0.        ]\n",
      " [-0.2321907   0.42284456  0.20940216 -0.04184302]\n",
      " [ 0.12481226  0.20940216  0.31972253  0.01123965]\n",
      " [ 0.01678932 -0.04184302  0.01123965  0.18618016]]\n",
      "\n",
      " Retarder =\n",
      "\n",
      "[[ 1.00000000e+00 -5.23127548e-18 -1.19262239e-17  1.38777878e-17]\n",
      " [-2.39391840e-16 -5.68041497e-02  7.34713821e-01  6.75994741e-01]\n",
      " [ 4.40619763e-16 -1.67427817e-01 -6.74509486e-01  7.19030514e-01]\n",
      " [-1.38777878e-17  9.84246521e-01 -7.23364071e-02  1.61326469e-01]]\n",
      "\n",
      " Diattenuator =\n",
      "\n",
      "[[ 0.8939604  -0.03616874  0.32331696  0.07715862]\n",
      " [-0.03616874  0.82983686 -0.00678683 -0.00161966]\n",
      " [ 0.32331696 -0.00678683  0.88974597  0.01447832]\n",
      " [ 0.07715862 -0.00161966  0.01447832  0.83253284]]\n",
      "\n",
      " The product Depolarizer . Retarder .  Diattenuator =\n",
      "\n",
      "[[ 0.8939604  -0.03616874  0.32331696  0.07715862]\n",
      " [-0.11503428 -0.07667013  0.08526914  0.34244714]\n",
      " [ 0.12209799 -0.0498061  -0.00958732  0.31956155]\n",
      " [-0.0076232   0.15220438 -0.04175769  0.00843327]]\n"
     ]
    }
   ],
   "source": [
    "\n",
    "def printMatrix(name,M):\n",
    "    print(\"\\n\",name,\"=\\n\")\n",
    "    print(M)\n",
    "\n",
    "M = RandomMuellerMatrix(4)\n",
    "depol, ret, diatten = Lu_Chipman_Decomposition(M)\n",
    "printMatrix(\"M\",M)\n",
    "printMatrix(\"Depolarizer\",depol)\n",
    "printMatrix(\"Retarder\",ret)\n",
    "printMatrix(\"Diattenuator\",diatten)\n",
    "printMatrix(\"The product Depolarizer . Retarder .  Diattenuator\",depol @ ret @ diatten)"
   ]
  },
  {
   "cell_type": "code",
   "execution_count": 23,
   "id": "f69b1c77",
   "metadata": {},
   "outputs": [
    {
     "name": "stdout",
     "output_type": "stream",
     "text": [
      "\n",
      " M =\n",
      "\n",
      "[[ 1.57587987  0.36926405 -0.17498708 -0.13088422]\n",
      " [-0.34703776 -1.3395769   0.1061999  -0.08874263]\n",
      " [ 0.14112965 -0.47208194  0.17376427 -0.23947818]\n",
      " [ 0.41627319  0.45273489 -0.25580516 -0.12794188]]\n",
      "\n",
      " diatten2 =\n",
      "\n",
      "[[ 1.         -0.12365251  0.13109661  0.22067771]\n",
      " [-0.12365251  0.96636039 -0.00827673 -0.0139324 ]\n",
      " [ 0.13109661 -0.00827673  0.96732865  0.01477115]\n",
      " [ 0.22067771 -0.0139324   0.01477115  0.98341824]]\n",
      "\n",
      " ret2 =\n",
      "\n",
      "[[ 1.          0.          0.          0.        ]\n",
      " [ 0.         -0.88643177 -0.09113382  0.45379879]\n",
      " [ 0.         -0.37322365 -0.43913665 -0.81722892]\n",
      " [ 0.          0.27375687 -0.89378612  0.35525138]]\n",
      "\n",
      " depol =\n",
      "\n",
      "[[1.54828592 0.         0.         0.        ]\n",
      " [0.         1.54828592 0.         0.        ]\n",
      " [0.         0.         0.23793791 0.        ]\n",
      " [0.         0.         0.         0.23793791]]\n",
      "\n",
      " ret1 =\n",
      "\n",
      "[[ 1.          0.          0.          0.        ]\n",
      " [ 0.          0.98505431 -0.13769613  0.10347843]\n",
      " [ 0.         -0.02920303  0.45855646  0.88818531]\n",
      " [ 0.         -0.16975038 -0.87793265  0.44768188]]\n",
      "\n",
      " diatten1 =\n",
      "\n",
      "[[ 1.          0.11640755 -0.09010561 -0.05780159]\n",
      " [ 0.11640755  0.99423369 -0.0052777  -0.00338557]\n",
      " [-0.09010561 -0.0052777   0.99150065  0.00262061]\n",
      " [-0.05780159 -0.00338557  0.00262061  0.98909652]]\n",
      "\n",
      " The product Diattenuator2 . Retarder2 .  Depolarizer . Retarder1 . Diattenuator1 =\n",
      "\n",
      "[[ 1.57587987  0.36926405 -0.17498708 -0.13088422]\n",
      " [-0.34703776 -1.3395769   0.1061999  -0.08874263]\n",
      " [ 0.14112965 -0.47208194  0.17376427 -0.23947818]\n",
      " [ 0.41627319  0.45273489 -0.25580516 -0.12794188]]\n"
     ]
    }
   ],
   "source": [
    "M = RandomMuellerMatrix(2)\n",
    "diatten2, ret2, depol, ret1, diatten1 = Symmetric_Decomposition(M)\n",
    "printMatrix(\"M\",M)\n",
    "printMatrix(\"diatten2\",diatten2)\n",
    "printMatrix(\"ret2\",ret2)\n",
    "printMatrix(\"depol\",depol)\n",
    "printMatrix(\"ret1\",ret1)\n",
    "printMatrix(\"diatten1\",diatten1)\n",
    "printMatrix(\"The product Diattenuator2 . Retarder2 .  Depolarizer . Retarder1 . Diattenuator1\",\n",
    "            diatten2 @ ret2 @ depol @ ret1 @ diatten1)\n"
   ]
  },
  {
   "cell_type": "code",
   "execution_count": 24,
   "id": "5f5dbf2c",
   "metadata": {},
   "outputs": [
    {
     "name": "stdout",
     "output_type": "stream",
     "text": [
      "\n",
      " M =\n",
      "\n",
      "[[ 1.05665963  0.28829731 -0.45326917  0.32433335]\n",
      " [-0.46762175  0.24263705  0.26490952 -0.27580518]\n",
      " [ 0.48547741  0.24451012 -0.70281168  0.12577189]\n",
      " [ 0.04848126  0.00231708 -0.01205412 -0.44240785]]\n",
      "\n",
      " diatten2 =\n",
      "\n",
      "[[ 1.         -0.75629777  0.25629099  0.3726163 ]\n",
      " [-0.75629777  0.86112444 -0.13161314 -0.1913497 ]\n",
      " [ 0.25629099 -0.13161314  0.51734325  0.06484378]\n",
      " [ 0.3726163  -0.1913497   0.06484378  0.56701781]]\n",
      "\n",
      " ret2 =\n",
      "\n",
      "[[ 1.          0.          0.          0.        ]\n",
      " [ 0.         -0.06630864  0.526365    0.84766919]\n",
      " [ 0.          0.94686582  0.30115006 -0.11293258]\n",
      " [ 0.         -0.31471939  0.79514057 -0.51836588]]\n",
      "\n",
      " depol =\n",
      "\n",
      "[[2.50803489 0.         0.         0.        ]\n",
      " [0.         2.50803489 0.         0.        ]\n",
      " [0.         0.         2.1029468  0.        ]\n",
      " [0.         0.         0.         2.10294679]]\n",
      "\n",
      " ret1 =\n",
      "\n",
      "[[ 1.          0.          0.          0.        ]\n",
      " [ 0.         -0.03839845 -0.98113085  0.18949358]\n",
      " [ 0.          0.46315278 -0.18550868 -0.86664643]\n",
      " [ 0.          0.88544625  0.0544866   0.46153672]]\n",
      "\n",
      " diatten1 =\n",
      "\n",
      "[[ 1.          0.72839752 -0.12185837  0.44309059]\n",
      " [ 0.72839752  0.85997881 -0.05885284  0.21399547]\n",
      " [-0.12185837 -0.05885284  0.5180371  -0.0358007 ]\n",
      " [ 0.44309059  0.21399547 -0.0358007   0.63836654]]\n",
      "\n",
      " The product Diattenuator2 . Retarder2 .  Depolarizer . Retarder1 . Diattenuator1 =\n",
      "\n",
      "[[ 1.05665963  0.28829731 -0.45326917  0.32433335]\n",
      " [-0.46762175  0.24263705  0.26490952 -0.27580518]\n",
      " [ 0.48547741  0.24451012 -0.70281168  0.12577189]\n",
      " [ 0.04848126  0.00231708 -0.01205412 -0.44240785]]\n"
     ]
    }
   ],
   "source": [
    "\n",
    "M = RandomMuellerMatrix(2)\n",
    "diatten2, ret2, depol, ret1, diatten1 = Symmetric_Decomposition(M)\n",
    "printMatrix(\"M\",M)\n",
    "printMatrix(\"diatten2\",diatten2)\n",
    "printMatrix(\"ret2\",ret2)\n",
    "printMatrix(\"depol\",depol)\n",
    "printMatrix(\"ret1\",ret1)\n",
    "printMatrix(\"diatten1\",diatten1)\n",
    "printMatrix(\"The product Diattenuator2 . Retarder2 .  Depolarizer . Retarder1 . Diattenuator1\",\n",
    "            diatten2 @ ret2 @ depol @ ret1 @ diatten1)\n"
   ]
  },
  {
   "cell_type": "code",
   "execution_count": 25,
   "id": "2b25bd99",
   "metadata": {},
   "outputs": [
    {
     "name": "stdout",
     "output_type": "stream",
     "text": [
      "\n",
      " M =\n",
      "\n",
      "[[ 1.16264301  0.04715024 -0.10252933  0.45746921]\n",
      " [-0.252436    0.00980227  0.34624876 -0.25670903]\n",
      " [ 0.31351884  0.03792399  0.18064961  0.40214503]\n",
      " [ 0.05018443  0.81618024  0.31839437  0.27213187]]\n",
      "\n",
      " L =\n",
      "\n",
      "[[ 0.03305322 -0.52294497  0.01989376  0.50527657]\n",
      " [-0.4539746  -0.68154641  1.16839875 -0.90962312]\n",
      " [ 0.28233564 -0.90910643 -1.14135879  0.64408036]\n",
      " [ 0.46769686  2.09086625 -0.4704783  -0.40147538]]\n",
      "\n",
      " MuellerExp(L) =\n",
      "\n",
      "[[ 1.16264301  0.04715024 -0.10252933  0.45746921]\n",
      " [-0.252436    0.00980227  0.34624876 -0.25670903]\n",
      " [ 0.31351884  0.03792399  0.18064961  0.40214503]\n",
      " [ 0.05018443  0.81618024  0.31839437  0.27213187]]\n"
     ]
    }
   ],
   "source": [
    "M = RandomMuellerMatrix(4)\n",
    "L = MuellerLog(M)\n",
    "printMatrix(\"M\",M)\n",
    "printMatrix(\"L\",L)\n",
    "printMatrix(\"MuellerExp(L)\",MuellerExp(L))"
   ]
  },
  {
   "cell_type": "code",
   "execution_count": 26,
   "id": "5ffb5e9c",
   "metadata": {},
   "outputs": [
    {
     "name": "stdout",
     "output_type": "stream",
     "text": [
      "Tmax =  1.1356755399073202\n",
      "Tmin =  0.3204175232900304\n",
      "diattenuation =  0.5598941696948352\n",
      "linear diattenuation =  0.539897343082095\n",
      "polarization dependent loss =  5.495380129234592\n",
      "polarizance =  0.5298013123360192\n",
      "depolarization index =  0.5963903600884352\n",
      "extinction_ratio =  3.544361520076252\n"
     ]
    }
   ],
   "source": [
    "M = RandomMuellerMatrix(4)\n",
    "\n",
    "print(\"Tmax = \",M.Tmax())\n",
    "print(\"Tmin = \",M.Tmin())\n",
    "print(\"diattenuation = \",M.diattenuation())\n",
    "print(\"linear diattenuation = \",M.linear_diattenuation())\n",
    "print(\"polarization dependent loss = \",M.polarization_dependent_loss())\n",
    "print(\"polarizance = \",M.polarizance())\n",
    "print(\"depolarization index = \",M.depolarization_index())\n",
    "print(\"extinction_ratio = \",M.extinction_ratio())"
   ]
  },
  {
   "cell_type": "code",
   "execution_count": 27,
   "id": "ee234c09",
   "metadata": {},
   "outputs": [
    {
     "name": "stdout",
     "output_type": "stream",
     "text": [
      "Mdepol = \n",
      "[[ 1.          0.          0.          0.        ]\n",
      " [-0.31698435  0.30596498 -0.09512423  0.08970502]\n",
      " [-0.29884491 -0.09512423  0.54018029 -0.04540533]\n",
      " [ 0.2718872   0.08970502 -0.04540533  0.34630371]]\n",
      "Mret = \n",
      "[[ 1.00000000e+00  1.21430643e-17  3.20923843e-17  0.00000000e+00]\n",
      " [-2.77555756e-16  3.61216645e-01 -8.98120191e-01 -2.50804023e-01]\n",
      " [-1.07552856e-16  2.47032730e-01  3.51521095e-01 -9.02999308e-01]\n",
      " [ 2.22044605e-16  8.99164816e-01  2.64221578e-01  3.48840354e-01]]\n",
      "Mdiatten = \n",
      "[[ 0.72804653 -0.29325103  0.26174064 -0.10796795]\n",
      " [-0.29325103  0.66782986 -0.05765558  0.02378291]\n",
      " [ 0.26174064 -0.05765558  0.65469362 -0.02122739]\n",
      " [-0.10796795  0.02378291 -0.02122739  0.61198954]]\n",
      "DiattenuationVector = [-0.29325103  0.26174064 -0.10796795]\n",
      "Diattenuation = 0.40762900830864485\n",
      "CircularDiattenuation = -0.10796795104431597\n",
      "LinearDiattenuation = 0.39307038805025935\n",
      "DiattenuationAngle = 1.2064549706984762 rad (69.12477799360208 deg)\n",
      "PolarizanceVector = [-0.31698435 -0.29884491  0.2718872 ]\n",
      "Polarizance = 0.513527024729913\n",
      "DepolarizationCoefficient = 0.3974829915258787\n",
      "LinearRetardance = 1.2144628842996057 rad (69.58359764565222 deg)\n",
      "OpticalRotation = 0.5070361414408848 rad (29.051030965160958 deg)\n",
      "Retardance = 1.540002413706436 rad (88.23563874533855deg)\n",
      "RetardanceAngle = 0.9283017285938319 rad (53.187771163125376 deg)\n"
     ]
    }
   ],
   "source": [
    "parametersM = CharacterizedMueller(M)\n",
    "print(parametersM)"
   ]
  },
  {
   "cell_type": "code",
   "execution_count": 90,
   "id": "9a4e614e",
   "metadata": {},
   "outputs": [
    {
     "name": "stdout",
     "output_type": "stream",
     "text": [
      "E:\\Polarimeter\\Polarimeter\\Expdata\\PLI\\Ferret\\20210628_1503_05xM_corpus_callosum_3mm\\analyzed_632_MES\n"
     ]
    }
   ],
   "source": [
    "cd E:\\Polarimeter\\Polarimeter\\Expdata\\PLI\\Ferret\\20210628_1503_05xM_corpus_callosum_3mm\\analyzed_632_MES\n",
    "    //works\n",
    "import os\n",
    "CURR_DIR = os.getcwd()\n",
    "print(CURR_DIR)"
   ]
  },
  {
   "cell_type": "code",
   "execution_count": 104,
   "id": "d736d739",
   "metadata": {},
   "outputs": [
    {
     "ename": "ValueError",
     "evalue": "setting an array element with a sequence. The requested array has an inhomogeneous shape after 3 dimensions. The detected shape was (1, 4, 4) + inhomogeneous part.",
     "output_type": "error",
     "traceback": [
      "\u001b[1;31m---------------------------------------------------------------------------\u001b[0m",
      "\u001b[1;31mValueError\u001b[0m                                Traceback (most recent call last)",
      "\u001b[1;32m~\\AppData\\Local\\Temp/ipykernel_6108/1565932372.py\u001b[0m in \u001b[0;36m<module>\u001b[1;34m\u001b[0m\n\u001b[0;32m     34\u001b[0m \u001b[0mMM\u001b[0m \u001b[1;33m=\u001b[0m \u001b[0mnp\u001b[0m\u001b[1;33m.\u001b[0m\u001b[0marray\u001b[0m\u001b[1;33m(\u001b[0m\u001b[1;33m[\u001b[0m\u001b[1;33m[\u001b[0m\u001b[0mm1\u001b[0m\u001b[1;33m,\u001b[0m \u001b[0mm2\u001b[0m\u001b[1;33m,\u001b[0m \u001b[0mm3\u001b[0m\u001b[1;33m,\u001b[0m \u001b[0mm4\u001b[0m\u001b[1;33m]\u001b[0m\u001b[1;33m,\u001b[0m \u001b[1;33m[\u001b[0m\u001b[0mm5\u001b[0m\u001b[1;33m,\u001b[0m \u001b[0mm6\u001b[0m\u001b[1;33m,\u001b[0m \u001b[0mm7\u001b[0m\u001b[1;33m,\u001b[0m \u001b[0mm8\u001b[0m\u001b[1;33m]\u001b[0m\u001b[1;33m,\u001b[0m \u001b[1;33m[\u001b[0m\u001b[0mm9\u001b[0m\u001b[1;33m,\u001b[0m \u001b[0mm10\u001b[0m\u001b[1;33m,\u001b[0m \u001b[0mm011\u001b[0m\u001b[1;33m,\u001b[0m \u001b[0mm012\u001b[0m\u001b[1;33m]\u001b[0m\u001b[1;33m,\u001b[0m \u001b[1;33m[\u001b[0m\u001b[0mm013\u001b[0m\u001b[1;33m,\u001b[0m \u001b[0mm014\u001b[0m\u001b[1;33m,\u001b[0m \u001b[0mm015\u001b[0m\u001b[1;33m,\u001b[0m \u001b[0mm016\u001b[0m\u001b[1;33m]\u001b[0m\u001b[1;33m]\u001b[0m\u001b[1;33m)\u001b[0m\u001b[1;33m\u001b[0m\u001b[1;33m\u001b[0m\u001b[0m\n\u001b[0;32m     35\u001b[0m \u001b[1;33m\u001b[0m\u001b[0m\n\u001b[1;32m---> 36\u001b[1;33m \u001b[0mMule\u001b[0m \u001b[1;33m=\u001b[0m \u001b[0mMuellerUnit\u001b[0m\u001b[1;33m(\u001b[0m\u001b[0mMM\u001b[0m\u001b[1;33m)\u001b[0m\u001b[1;33m\u001b[0m\u001b[1;33m\u001b[0m\u001b[0m\n\u001b[0m\u001b[0;32m     37\u001b[0m \u001b[1;33m\u001b[0m\u001b[0m\n\u001b[0;32m     38\u001b[0m \u001b[0mprint\u001b[0m\u001b[1;33m(\u001b[0m\u001b[0mMule\u001b[0m\u001b[1;33m)\u001b[0m\u001b[1;33m\u001b[0m\u001b[1;33m\u001b[0m\u001b[0m\n",
      "\u001b[1;32mc:\\users\\thoma\\appdata\\local\\programs\\python\\python39\\lib\\site-packages\\pySCATMECH\\mueller.py\u001b[0m in \u001b[0;36mMuellerUnit\u001b[1;34m(attenuation)\u001b[0m\n\u001b[0;32m   1623\u001b[0m     \"\"\"\n\u001b[0;32m   1624\u001b[0m     \u001b[0ma\u001b[0m \u001b[1;33m=\u001b[0m \u001b[0mattenuation\u001b[0m\u001b[1;33m\u001b[0m\u001b[1;33m\u001b[0m\u001b[0m\n\u001b[1;32m-> 1625\u001b[1;33m     \u001b[1;32mreturn\u001b[0m \u001b[0mMuellerMatrix\u001b[0m\u001b[1;33m(\u001b[0m\u001b[1;33m[\u001b[0m\u001b[1;33m[\u001b[0m\u001b[0ma\u001b[0m\u001b[1;33m,\u001b[0m\u001b[1;36m0\u001b[0m\u001b[1;33m,\u001b[0m\u001b[1;36m0\u001b[0m\u001b[1;33m,\u001b[0m\u001b[1;36m0\u001b[0m\u001b[1;33m]\u001b[0m\u001b[1;33m,\u001b[0m\u001b[1;33m[\u001b[0m\u001b[1;36m0\u001b[0m\u001b[1;33m,\u001b[0m\u001b[0ma\u001b[0m\u001b[1;33m,\u001b[0m\u001b[1;36m0\u001b[0m\u001b[1;33m,\u001b[0m\u001b[1;36m0\u001b[0m\u001b[1;33m]\u001b[0m\u001b[1;33m,\u001b[0m\u001b[1;33m[\u001b[0m\u001b[1;36m0\u001b[0m\u001b[1;33m,\u001b[0m\u001b[1;36m0\u001b[0m\u001b[1;33m,\u001b[0m\u001b[0ma\u001b[0m\u001b[1;33m,\u001b[0m\u001b[1;36m0\u001b[0m\u001b[1;33m]\u001b[0m\u001b[1;33m,\u001b[0m\u001b[1;33m[\u001b[0m\u001b[1;36m0\u001b[0m\u001b[1;33m,\u001b[0m\u001b[1;36m0\u001b[0m\u001b[1;33m,\u001b[0m\u001b[1;36m0\u001b[0m\u001b[1;33m,\u001b[0m\u001b[0ma\u001b[0m\u001b[1;33m]\u001b[0m\u001b[1;33m]\u001b[0m\u001b[1;33m)\u001b[0m\u001b[1;33m\u001b[0m\u001b[1;33m\u001b[0m\u001b[0m\n\u001b[0m\u001b[0;32m   1626\u001b[0m \u001b[1;33m\u001b[0m\u001b[0m\n\u001b[0;32m   1627\u001b[0m \u001b[1;32mdef\u001b[0m \u001b[0mMuellerDiagonal\u001b[0m\u001b[1;33m(\u001b[0m\u001b[0ma\u001b[0m\u001b[1;33m)\u001b[0m\u001b[1;33m:\u001b[0m\u001b[1;33m\u001b[0m\u001b[1;33m\u001b[0m\u001b[0m\n",
      "\u001b[1;32mc:\\users\\thoma\\appdata\\local\\programs\\python\\python39\\lib\\site-packages\\pySCATMECH\\mueller.py\u001b[0m in \u001b[0;36m__new__\u001b[1;34m(cls, *x)\u001b[0m\n\u001b[0;32m     81\u001b[0m             \u001b[1;32mreturn\u001b[0m \u001b[0mm\u001b[0m\u001b[1;33m\u001b[0m\u001b[1;33m\u001b[0m\u001b[0m\n\u001b[0;32m     82\u001b[0m         \u001b[1;32mif\u001b[0m \u001b[1;33m(\u001b[0m\u001b[0mlen\u001b[0m\u001b[1;33m(\u001b[0m\u001b[0mx\u001b[0m\u001b[1;33m)\u001b[0m\u001b[1;33m==\u001b[0m\u001b[1;36m1\u001b[0m\u001b[1;33m)\u001b[0m\u001b[1;33m:\u001b[0m\u001b[1;33m\u001b[0m\u001b[1;33m\u001b[0m\u001b[0m\n\u001b[1;32m---> 83\u001b[1;33m             \u001b[0mm\u001b[0m \u001b[1;33m=\u001b[0m \u001b[0mnp\u001b[0m\u001b[1;33m.\u001b[0m\u001b[0masarray\u001b[0m\u001b[1;33m(\u001b[0m\u001b[0mx\u001b[0m\u001b[1;33m,\u001b[0m\u001b[0mdtype\u001b[0m\u001b[1;33m=\u001b[0m\u001b[0mfloat\u001b[0m\u001b[1;33m)\u001b[0m\u001b[1;33m.\u001b[0m\u001b[0mview\u001b[0m\u001b[1;33m(\u001b[0m\u001b[0mMuellerMatrix\u001b[0m\u001b[1;33m)\u001b[0m\u001b[1;33m\u001b[0m\u001b[1;33m\u001b[0m\u001b[0m\n\u001b[0m\u001b[0;32m     84\u001b[0m             \u001b[0mm\u001b[0m \u001b[1;33m=\u001b[0m \u001b[0mm\u001b[0m\u001b[1;33m.\u001b[0m\u001b[0mreshape\u001b[0m\u001b[1;33m(\u001b[0m\u001b[1;33m(\u001b[0m\u001b[1;36m4\u001b[0m\u001b[1;33m,\u001b[0m\u001b[1;36m4\u001b[0m\u001b[1;33m)\u001b[0m\u001b[1;33m)\u001b[0m\u001b[1;33m\u001b[0m\u001b[1;33m\u001b[0m\u001b[0m\n\u001b[0;32m     85\u001b[0m             \u001b[1;32mreturn\u001b[0m \u001b[0mm\u001b[0m\u001b[1;33m\u001b[0m\u001b[1;33m\u001b[0m\u001b[0m\n",
      "\u001b[1;31mValueError\u001b[0m: setting an array element with a sequence. The requested array has an inhomogeneous shape after 3 dimensions. The detected shape was (1, 4, 4) + inhomogeneous part."
     ]
    }
   ],
   "source": [
    "m11 = open(\"m11.txt\")\n",
    "m12 = open(\"m12.txt\")\n",
    "m13 = open(\"m13.txt\")\n",
    "m14 = open(\"m14.txt\")\n",
    "m21 = open(\"m21.txt\")\n",
    "m22 = open(\"m22.txt\")\n",
    "m23 = open(\"m23.txt\")\n",
    "m24 = open(\"m24.txt\")\n",
    "m31 = open(\"m31.txt\")\n",
    "m32 = open(\"m32.txt\")\n",
    "m33 = open(\"m33.txt\")\n",
    "m34 = open(\"m34.txt\")\n",
    "m41 = open(\"m41.txt\")\n",
    "m42 = open(\"m42.txt\")\n",
    "m43 = open(\"m43.txt\")\n",
    "m44 = open(\"m44.txt\")\n",
    "m1 = m11.read()\n",
    "m2 = m12.read()\n",
    "m3 = m13.read()\n",
    "m4 = m14.read()\n",
    "m5 = m21.read()\n",
    "m6 = m22.read()\n",
    "m7 = m23.read()\n",
    "m8 = m24.read()\n",
    "m9 = m31.read()\n",
    "m10 = m32.read()\n",
    "m011 = m33.read()\n",
    "m012 = m34.read()\n",
    "m013 = m41.read()\n",
    "m014 = m42.read()\n",
    "m015 = m43.read()\n",
    "m016 = m44.read()\n",
    "\n",
    "MM = np.array([[m1, m2, m3, m4], [m5, m6, m7, m8], [m9, m10, m011, m012], [m013, m014, m015, m016]])\n",
    "\n",
    "Mule = MuellerUnit(MM)\n",
    "\n",
    "print(Mule)\n"
   ]
  },
  {
   "cell_type": "code",
   "execution_count": 111,
   "id": "d2149f14",
   "metadata": {},
   "outputs": [
    {
     "ename": "AttributeError",
     "evalue": "'numpy.ndarray' object has no attribute 'show'",
     "output_type": "error",
     "traceback": [
      "\u001b[1;31m---------------------------------------------------------------------------\u001b[0m",
      "\u001b[1;31mAttributeError\u001b[0m                            Traceback (most recent call last)",
      "\u001b[1;32m~\\AppData\\Local\\Temp/ipykernel_6108/1673203926.py\u001b[0m in \u001b[0;36m<module>\u001b[1;34m\u001b[0m\n\u001b[0;32m      3\u001b[0m \u001b[0mimg\u001b[0m\u001b[1;33m.\u001b[0m\u001b[0mshape\u001b[0m\u001b[1;33m\u001b[0m\u001b[1;33m\u001b[0m\u001b[0m\n\u001b[0;32m      4\u001b[0m \u001b[1;33m\u001b[0m\u001b[0m\n\u001b[1;32m----> 5\u001b[1;33m \u001b[0mimg\u001b[0m\u001b[1;33m.\u001b[0m\u001b[0mshow\u001b[0m\u001b[1;33m(\u001b[0m\u001b[1;33m)\u001b[0m\u001b[1;33m\u001b[0m\u001b[1;33m\u001b[0m\u001b[0m\n\u001b[0m",
      "\u001b[1;31mAttributeError\u001b[0m: 'numpy.ndarray' object has no attribute 'show'"
     ]
    }
   ],
   "source": [
    "img = plt.imread('mat2tiff_muellerRaw_125scale.tif', '.tif')\n",
    "\n",
    "img.shape\n",
    "\n",
    "img.show()"
   ]
  }
 ],
 "metadata": {
  "kernelspec": {
   "display_name": "Python 3 (ipykernel)",
   "language": "python",
   "name": "python3"
  },
  "language_info": {
   "codemirror_mode": {
    "name": "ipython",
    "version": 3
   },
   "file_extension": ".py",
   "mimetype": "text/x-python",
   "name": "python",
   "nbconvert_exporter": "python",
   "pygments_lexer": "ipython3",
   "version": "3.9.6"
  }
 },
 "nbformat": 4,
 "nbformat_minor": 5
}
